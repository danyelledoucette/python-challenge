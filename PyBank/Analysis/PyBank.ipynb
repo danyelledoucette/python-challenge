{
 "cells": [
  {
   "cell_type": "code",
   "execution_count": null,
   "metadata": {},
   "outputs": [],
   "source": [
    "## PyBank\n",
    "\n",
    "#[Revenue](Images/revenue-per-lead.png)\n",
    "\n",
    "# In this challenge, you are tasked with creating a Python script for analyzing the financial records of your company. You will give a set of financial data called [budget_data.csv](PyBank/Resources/budget_data.csv). The dataset is composed of two columns: `Date` and `Profit/Losses`. (Thankfully, your company has rather lax standards for accounting so the records are simple.)\n",
    "\n",
    "# Your task is to create a Python script that analyzes the records to calculate each of the following:\n",
    "\n",
    "  # The total number of months included in the dataset\n",
    "\n",
    "  # The net total amount of \"Profit/Losses\" over the entire period\n",
    "\n",
    "  # Calculate the changes in \"Profit/Losses\" over the entire period, then find the average of those changes\n",
    "\n",
    "  # The greatest increase in profits (date and amount) over the entire period\n",
    "\n",
    "  # The greatest decrease in losses (date and amount) over the entire period\n",
    "\n",
    "# As an example, your analysis should look similar to the one below:\n",
    "\n",
    "  #```text\n",
    "  #Financial Analysis\n",
    "  #----------------------------\n",
    "  #Total Months: 86\n",
    "  #Total: $38382578\n",
    "  #Average  Change: $-2315.12\n",
    "  #Greatest Increase in Profits: Feb-2012 ($1926159)\n",
    "  #Greatest Decrease in Profits: Sep-2013 ($-2196167)\n",
    "  #```\n",
    "\n",
    "# In addition, your final script should both print the analysis to the terminal and export a text file with the results."
   ]
  },
  {
   "cell_type": "code",
   "execution_count": null,
   "metadata": {},
   "outputs": [],
   "source": []
  },
  {
   "cell_type": "code",
   "execution_count": null,
   "metadata": {},
   "outputs": [],
   "source": [
    "import os\n",
    "import csv\n",
    "\n",
    "budget_data_csv = os.path.join('..', 'Resources', 'budget_data.csv')"
   ]
  },
  {
   "cell_type": "code",
   "execution_count": null,
   "metadata": {},
   "outputs": [],
   "source": [
    "months = 0\n",
    "profits = []\n",
    "dates = []"
   ]
  },
  {
   "cell_type": "code",
   "execution_count": null,
   "metadata": {},
   "outputs": [],
   "source": [
    "with open(budget_data_csv, newline='') as csvfile:\n",
    "    \n",
    "    csvreader = csv.reader(csvfile, delimiter=\",\")\n",
    "    header = next(csvreader)\n",
    "    \n",
    "    for row in csvreader:\n",
    "        months += 1\n",
    "        dates.append(row[0])\n",
    "        profits.append(float(row[1]))\n",
    "        \n",
    "total_profit = profits[0]\n",
    "total_changes = 0\n",
    "lrg_inc = 0\n",
    "lrg_dec = 0\n",
    "        \n",
    "for n in range (1, months):\n",
    "    \n",
    "    total_profit += profits[n]\n",
    "    current = profits[n] - profits[n-1]\n",
    "    total_changes += current\n",
    "    \n",
    "    if current > lrg_inc:\n",
    "                lrg_inc = current\n",
    "                lrg_inc_date = dates[n]\n",
    "    elif current < lrg_dec:\n",
    "                lrg_dec = current\n",
    "                lrg_dec_date = dates[n]"
   ]
  },
  {
   "cell_type": "code",
   "execution_count": null,
   "metadata": {},
   "outputs": [],
   "source": [
    "    print(f\"Financial Analysis\")\n",
    "    print(f\"-------------------\")\n",
    "    print(f\"Total Months: {months}\")\n",
    "    print(f\"Total Profits: ${(total_profit):.2f} \")\n",
    "    print(f\"Average Change: ${(total_changes/(months -1)):.2f}\" )\n",
    "    print(f\"Greatest Increase in Profits: {lrg_inc_date} (${(lrg_inc):.2f}) \" )\n",
    "    print(f\"Greatest Decrease in Profits: {lrg_dec_date} (${(lrg_dec):.2f}) \" )\n",
    "    \n",
    "with open(\"Financial_Analysis.txt\",\"w\") as txtfile:\n",
    "    txtfile.write(\"Financial Analysis\\n\")\n",
    "    txtfile.write(\"----------------------------\\n\")\n",
    "    txtfile.write(f\"Months: {Months}\\n\")\n",
    "    txtfile.write(f\"Total Profits: ${(TotalProfits):.2f}\\n\")\n",
    "    txtfile.write(f\"Average Change: ${(TotaledChanges/(Months - 1)):.2f}\\n\")\n",
    "    txtfile.write(f\"Greatest Increase in Profits: {BigIncDate} (${(BigInc):.2f})\\n\")\n",
    "    txtfile.write(f\"Greatest Decrease in Profits: {BigDecDate} (${(BigDec):.2f})\\n\")"
   ]
  },
  {
   "cell_type": "code",
   "execution_count": null,
   "metadata": {},
   "outputs": [],
   "source": []
  },
  {
   "cell_type": "code",
   "execution_count": null,
   "metadata": {},
   "outputs": [],
   "source": []
  },
  {
   "cell_type": "code",
   "execution_count": null,
   "metadata": {},
   "outputs": [],
   "source": []
  }
 ],
 "metadata": {
  "kernelspec": {
   "display_name": "Python 3",
   "language": "python",
   "name": "python3"
  },
  "language_info": {
   "codemirror_mode": {
    "name": "ipython",
    "version": 3
   },
   "file_extension": ".py",
   "mimetype": "text/x-python",
   "name": "python",
   "nbconvert_exporter": "python",
   "pygments_lexer": "ipython3",
   "version": "3.8.5"
  }
 },
 "nbformat": 4,
 "nbformat_minor": 4
}
