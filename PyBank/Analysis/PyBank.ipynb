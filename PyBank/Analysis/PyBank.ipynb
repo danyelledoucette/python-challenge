{
 "cells": [
  {
   "cell_type": "code",
   "execution_count": null,
   "metadata": {},
   "outputs": [],
   "source": [
    "## PyBank\n",
    "\n",
    "#[Revenue](Images/revenue-per-lead.png)\n",
    "\n",
    "# In this challenge, you are tasked with creating a Python script for analyzing the financial records of your company. You will give a set of financial data called [budget_data.csv](PyBank/Resources/budget_data.csv). The dataset is composed of two columns: `Date` and `Profit/Losses`. (Thankfully, your company has rather lax standards for accounting so the records are simple.)\n",
    "\n",
    "# Your task is to create a Python script that analyzes the records to calculate each of the following:\n",
    "\n",
    "  # The total number of months included in the dataset\n",
    "\n",
    "  # The net total amount of \"Profit/Losses\" over the entire period\n",
    "\n",
    "  # Calculate the changes in \"Profit/Losses\" over the entire period, then find the average of those changes\n",
    "\n",
    "  # The greatest increase in profits (date and amount) over the entire period\n",
    "\n",
    "  # The greatest decrease in losses (date and amount) over the entire period\n",
    "\n",
    "# As an example, your analysis should look similar to the one below:\n",
    "\n",
    "  #```text\n",
    "  #Financial Analysis\n",
    "  #----------------------------\n",
    "  #Total Months: 86\n",
    "  #Total: $38382578\n",
    "  #Average  Change: $-2315.12\n",
    "  #Greatest Increase in Profits: Feb-2012 ($1926159)\n",
    "  #Greatest Decrease in Profits: Sep-2013 ($-2196167)\n",
    "  #```\n",
    "\n",
    "# In addition, your final script should both print the analysis to the terminal and export a text file with the results."
   ]
  },
  {
   "cell_type": "code",
   "execution_count": null,
   "metadata": {},
   "outputs": [],
   "source": []
  },
  {
   "cell_type": "code",
   "execution_count": 2,
   "metadata": {},
   "outputs": [],
   "source": [
    "import os\n",
    "import csv"
   ]
  },
  {
   "cell_type": "code",
   "execution_count": 3,
   "metadata": {},
   "outputs": [],
   "source": [
    "budget_data_csv = os.path.join('..', 'Resources', 'budget_data.csv')"
   ]
  },
  {
   "cell_type": "code",
   "execution_count": 4,
   "metadata": {},
   "outputs": [
    {
     "name": "stdout",
     "output_type": "stream",
     "text": [
      "Jan-2010,867884\r\n",
      "Feb-2010,984655\r\n",
      "Mar-2010,322013\r\n",
      "Apr-2010,-69417\r\n",
      "May-2010,310503\r\n",
      "Jun-2010,522857\r\n",
      "Jul-2010,1033096\r\n",
      "Aug-2010,604885\r\n",
      "Sep-2010,-216386\r\n",
      "Oct-2010,477532\r\n",
      "Nov-2010,893810\r\n",
      "Dec-2010,-80353\r\n",
      "Jan-2011,779806\r\n",
      "Feb-2011,-335203\r\n",
      "Mar-2011,697845\r\n",
      "Apr-2011,793163\r\n",
      "May-2011,485070\r\n",
      "Jun-2011,584122\r\n",
      "Jul-2011,62729\r\n",
      "Aug-2011,668179\r\n",
      "Sep-2011,899906\r\n",
      "Oct-2011,834719\r\n",
      "Nov-2011,132003\r\n",
      "Dec-2011,309978\r\n",
      "Jan-2012,-755566\r\n",
      "Feb-2012,1170593\r\n",
      "Mar-2012,252788\r\n",
      "Apr-2012,1151518\r\n",
      "May-2012,817256\r\n",
      "Jun-2012,570757\r\n",
      "Jul-2012,506702\r\n",
      "Aug-2012,-1022534\r\n",
      "Sep-2012,475062\r\n",
      "Oct-2012,779976\r\n",
      "Nov-2012,144175\r\n",
      "Dec-2012,542494\r\n",
      "Jan-2013,359333\r\n",
      "Feb-2013,321469\r\n",
      "Mar-2013,67780\r\n",
      "Apr-2013,471435\r\n",
      "May-2013,565603\r\n",
      "Jun-2013,872480\r\n",
      "Jul-2013,789480\r\n",
      "Aug-2013,999942\r\n",
      "Sep-2013,-1196225\r\n",
      "Oct-2013,268997\r\n",
      "Nov-2013,-687986\r\n",
      "Dec-2013,1150461\r\n",
      "Jan-2014,682458\r\n",
      "Feb-2014,617856\r\n",
      "Mar-2014,824098\r\n",
      "Apr-2014,581943\r\n",
      "May-2014,132864\r\n",
      "Jun-2014,448062\r\n",
      "Jul-2014,689161\r\n",
      "Aug-2014,800701\r\n",
      "Sep-2014,1166643\r\n",
      "Oct-2014,947333\r\n",
      "Nov-2014,578668\r\n",
      "Dec-2014,988505\r\n",
      "Jan-2015,1139715\r\n",
      "Feb-2015,1029471\r\n",
      "Mar-2015,687533\r\n",
      "Apr-2015,-524626\r\n",
      "May-2015,158620\r\n",
      "Jun-2015,87795\r\n",
      "Jul-2015,423389\r\n",
      "Aug-2015,840723\r\n",
      "Sep-2015,568529\r\n",
      "Oct-2015,332067\r\n",
      "Nov-2015,989499\r\n",
      "Dec-2015,778237\r\n",
      "Jan-2016,650000\r\n",
      "Feb-2016,-1100387\r\n",
      "Mar-2016,-174946\r\n",
      "Apr-2016,757143\r\n",
      "May-2016,445709\r\n",
      "Jun-2016,712961\r\n",
      "Jul-2016,-1163797\r\n",
      "Aug-2016,569899\r\n",
      "Sep-2016,768450\r\n",
      "Oct-2016,102685\r\n",
      "Nov-2016,795914\r\n",
      "Dec-2016,60988\r\n",
      "Jan-2017,138230\r\n",
      "Feb-2017,671099\r\n",
      "\n",
      "<class 'str'>\n"
     ]
    },
    {
     "ename": "ZeroDivisionError",
     "evalue": "division by zero",
     "output_type": "error",
     "traceback": [
      "\u001b[0;31m---------------------------------------------------------------------------\u001b[0m",
      "\u001b[0;31mZeroDivisionError\u001b[0m                         Traceback (most recent call last)",
      "\u001b[0;32m<ipython-input-4-d9a5981d23c5>\u001b[0m in \u001b[0;36m<module>\u001b[0;34m\u001b[0m\n\u001b[1;32m     29\u001b[0m                 \u001b[0mloss_date\u001b[0m \u001b[0;34m=\u001b[0m \u001b[0mstr\u001b[0m\u001b[0;34m(\u001b[0m\u001b[0mrow\u001b[0m\u001b[0;34m[\u001b[0m\u001b[0;36m0\u001b[0m\u001b[0;34m]\u001b[0m\u001b[0;34m)\u001b[0m\u001b[0;34m\u001b[0m\u001b[0;34m\u001b[0m\u001b[0m\n\u001b[1;32m     30\u001b[0m \u001b[0;34m\u001b[0m\u001b[0m\n\u001b[0;32m---> 31\u001b[0;31m \u001b[0maverage\u001b[0m \u001b[0;34m=\u001b[0m \u001b[0mtotal\u001b[0m \u001b[0;34m/\u001b[0m \u001b[0mcount\u001b[0m\u001b[0;34m\u001b[0m\u001b[0;34m\u001b[0m\u001b[0m\n\u001b[0m\u001b[1;32m     32\u001b[0m \u001b[0mprint\u001b[0m\u001b[0;34m(\u001b[0m\u001b[0mtotal\u001b[0m\u001b[0;34m)\u001b[0m\u001b[0;34m\u001b[0m\u001b[0;34m\u001b[0m\u001b[0m\n",
      "\u001b[0;31mZeroDivisionError\u001b[0m: division by zero"
     ]
    }
   ],
   "source": [
    "with open(budget_data_csv, newline='') as csvfile:\n",
    "    csvreader = csv.reader(csvfile, delimiter=\",\")\n",
    "    header = next(csvreader)\n",
    "        \n",
    "    lines = csvfile.read()\n",
    "    print(lines)\n",
    "    print(type(lines))\n",
    "    \n",
    "    count = 0\n",
    "    total = 0\n",
    "    average = 0\n",
    "    current = 0\n",
    "    lrgprofit = 0\n",
    "    lrgloss = 0\n",
    "    profit_loss_date = \"\"\n",
    "    loss_date = \"\"\n",
    "    \n",
    "    for row in csvreader:\n",
    "        total += int(row[1])\n",
    "        count += 1\n",
    "        current = int(row[1])\n",
    "        if(current >= 0):\n",
    "            if(current > lrgprofit):\n",
    "                lrgprofit = current\n",
    "                profit_date = str(row[0])\n",
    "        elif(current < 0):\n",
    "            if(current < lrgloss):\n",
    "                lrgloss = current\n",
    "                loss_date = str(row[0])\n",
    "        \n",
    "average = total / count\n",
    "print(total)"
   ]
  },
  {
   "cell_type": "code",
   "execution_count": null,
   "metadata": {},
   "outputs": [],
   "source": [
    "# WHY U DO DIS"
   ]
  },
  {
   "cell_type": "code",
   "execution_count": null,
   "metadata": {},
   "outputs": [],
   "source": []
  },
  {
   "cell_type": "code",
   "execution_count": 9,
   "metadata": {},
   "outputs": [
    {
     "name": "stdout",
     "output_type": "stream",
     "text": [
      "Financial Analysis\n",
      "-------------------\n",
      "Total Months: 0\n",
      "Total: \n",
      "Average Change: \n",
      "Greatest Increase in Profits: \n",
      "Greatest Decrease in Profits: \n"
     ]
    }
   ],
   "source": [
    "    # WTF... NEEDS WORK\n",
    "\n",
    "    print(f\"Financial Analysis\")\n",
    "    print(f\"-------------------\")\n",
    "    print(f\"Total Months: {total}\")\n",
    "    print(f\"Total: \" )\n",
    "    print(f\"Average Change: \" )\n",
    "    print(f\"Greatest Increase in Profits: \" )\n",
    "    print(f\"Greatest Decrease in Profits: \" )"
   ]
  },
  {
   "cell_type": "code",
   "execution_count": null,
   "metadata": {},
   "outputs": [],
   "source": []
  },
  {
   "cell_type": "code",
   "execution_count": null,
   "metadata": {},
   "outputs": [],
   "source": []
  },
  {
   "cell_type": "code",
   "execution_count": null,
   "metadata": {},
   "outputs": [],
   "source": []
  }
 ],
 "metadata": {
  "kernelspec": {
   "display_name": "Python 3",
   "language": "python",
   "name": "python3"
  },
  "language_info": {
   "codemirror_mode": {
    "name": "ipython",
    "version": 3
   },
   "file_extension": ".py",
   "mimetype": "text/x-python",
   "name": "python",
   "nbconvert_exporter": "python",
   "pygments_lexer": "ipython3",
   "version": "3.8.5"
  }
 },
 "nbformat": 4,
 "nbformat_minor": 4
}
