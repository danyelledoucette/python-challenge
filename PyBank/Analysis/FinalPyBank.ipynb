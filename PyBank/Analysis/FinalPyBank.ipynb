{
 "cells": [
  {
   "cell_type": "code",
   "execution_count": null,
   "metadata": {},
   "outputs": [],
   "source": [
    "import os\n",
    "import csv\n",
    "\n",
    "budget_data_csv = os.path.join('..', 'Resources', 'budget_data.csv')"
   ]
  },
  {
   "cell_type": "code",
   "execution_count": null,
   "metadata": {},
   "outputs": [],
   "source": [
    "months = 0\n",
    "profits = []\n",
    "dates = []"
   ]
  },
  {
   "cell_type": "code",
   "execution_count": null,
   "metadata": {},
   "outputs": [],
   "source": [
    "with open(budget_data_csv, newline='') as csvfile:\n",
    "    \n",
    "    csvreader = csv.reader(csvfile, delimiter=\",\")\n",
    "    header = next(csvreader)\n",
    "    \n",
    "    for row in csvreader:\n",
    "        months += 1\n",
    "        dates.append(row[0])\n",
    "        profits.append(float(row[1]))\n",
    "        \n",
    "total_profit = profits[0]\n",
    "total_changes = 0\n",
    "lrg_inc = 0\n",
    "lrg_dec = 0\n",
    "        \n",
    "for n in range (1, months):\n",
    "    \n",
    "    total_profit += profits[n]\n",
    "    current = profits[n] - profits[n-1]\n",
    "    total_changes += current\n",
    "    \n",
    "    if current > lrg_inc:\n",
    "                lrg_inc = current\n",
    "                lrg_inc_date = dates[n]\n",
    "    elif current < lrg_dec:\n",
    "                lrg_dec = current\n",
    "                lrg_dec_date = dates[n]"
   ]
  },
  {
   "cell_type": "code",
   "execution_count": null,
   "metadata": {},
   "outputs": [],
   "source": [
    "    print(f\"Financial Analysis\")\n",
    "    print(f\"-------------------\")\n",
    "    print(f\"Total Months: {months}\")\n",
    "    print(f\"Total Profits: ${(total_profit):.2f} \")\n",
    "    print(f\"Average Change: ${(total_changes/(months -1)):.2f}\" )\n",
    "    print(f\"Greatest Increase in Profits: {lrg_inc_date} (${(lrg_inc):.2f}) \" )\n",
    "    print(f\"Greatest Decrease in Profits: {lrg_dec_date} (${(lrg_dec):.2f}) \" )"
   ]
  },
  {
   "cell_type": "code",
   "execution_count": null,
   "metadata": {},
   "outputs": [],
   "source": [
    "with open(\"Financial_Analysis.txt\",\"w\") as txtfile:\n",
    "    txtfile.write(\"Financial Analysis\\n\")\n",
    "    txtfile.write(\"----------------------------\\n\")\n",
    "    txtfile.write(f\"Months: {months}\\n\")\n",
    "    txtfile.write(f\"Total Profits: ${(total_profit):.2f}\\n\")\n",
    "    txtfile.write(f\"Average Change: ${(total_changes/(months - 1)):.2f}\\n\")\n",
    "    txtfile.write(f\"Greatest Increase in Profits: {lrg_inc_date} (${(lrg_inc):.2f})\\n\")\n",
    "    txtfile.write(f\"Greatest Decrease in Profits: {lrg_dec_date} (${(lrg_dec):.2f})\\n\")"
   ]
  },
  {
   "cell_type": "code",
   "execution_count": null,
   "metadata": {},
   "outputs": [],
   "source": []
  },
  {
   "cell_type": "code",
   "execution_count": null,
   "metadata": {},
   "outputs": [],
   "source": []
  }
 ],
 "metadata": {
  "kernelspec": {
   "display_name": "Python 3",
   "language": "python",
   "name": "python3"
  },
  "language_info": {
   "codemirror_mode": {
    "name": "ipython",
    "version": 3
   },
   "file_extension": ".py",
   "mimetype": "text/x-python",
   "name": "python",
   "nbconvert_exporter": "python",
   "pygments_lexer": "ipython3",
   "version": "3.8.5"
  }
 },
 "nbformat": 4,
 "nbformat_minor": 4
}
