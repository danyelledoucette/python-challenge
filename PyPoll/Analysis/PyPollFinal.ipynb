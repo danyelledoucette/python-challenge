{
 "cells": [
  {
   "cell_type": "code",
   "execution_count": 1,
   "metadata": {},
   "outputs": [],
   "source": [
    "import os\n",
    "import csv"
   ]
  },
  {
   "cell_type": "code",
   "execution_count": 2,
   "metadata": {},
   "outputs": [],
   "source": [
    "election_data_csv = os.path.join('..', 'Resources', 'election_data.csv')"
   ]
  },
  {
   "cell_type": "code",
   "execution_count": 3,
   "metadata": {},
   "outputs": [],
   "source": [
    "votes_cast = 0\n",
    "winner_votes = 0\n",
    "candidate = []\n",
    "candidate_votes = []"
   ]
  },
  {
   "cell_type": "code",
   "execution_count": 5,
   "metadata": {},
   "outputs": [],
   "source": [
    "with open(election_data_csv, newline='') as csvfile:\n",
    "    csvreader = csv.reader(csvfile, delimiter=\",\")\n",
    "    header = next(csvreader)\n",
    "    \n",
    "    for row in csvreader:\n",
    "\n",
    "        votes_cast += 1\n",
    "        \n",
    "        if candidate.count(row[2]) == 0:\n",
    "            candidate.append(row[2])\n",
    "            candidate_votes.append(1)\n",
    "        \n",
    "        else:\n",
    "            candidate_votes[candidate.index(row[2])] += 1"
   ]
  },
  {
   "cell_type": "code",
   "execution_count": 9,
   "metadata": {},
   "outputs": [
    {
     "name": "stdout",
     "output_type": "stream",
     "text": [
      "Election Results\n",
      "------------------------\n",
      "Total Votes: 3521001\n",
      "-------------------------\n",
      "Khan: 63.000% (2218231)\n",
      "Correy: 20.000% (704200)\n",
      "Li: 14.000% (492940)\n",
      "O'Tooley: 3.000% (105630)\n",
      "-------------------------\n",
      "Winner: Khan\n",
      "-------------------------\n"
     ]
    }
   ],
   "source": [
    "print(\"Election Results\")\n",
    "print(\"------------------------\")\n",
    "print(f\"Total Votes: {votes_cast}\")\n",
    "print(\"-------------------------\")\n",
    "for n in range(len(candidate)):\n",
    "        if candidate_votes[n] > winner_votes:\n",
    "            winner = candidate[n]\n",
    "            winner_votes = candidate_votes[n]\n",
    "        print(f\"{candidate[n]}: {(candidate_votes[n]/votes_cast)*100:.3f}% ({candidate_votes[n]})\")\n",
    "print(\"-------------------------\")\n",
    "print(f\"Winner: {winner}\")\n",
    "print(\"-------------------------\")"
   ]
  },
  {
   "cell_type": "code",
   "execution_count": 12,
   "metadata": {},
   "outputs": [],
   "source": [
    "with open(\"election_results.txt\", \"w\") as txtfile:\n",
    "    txtfile.write(\"Election Results\\n\")\n",
    "    txtfile.write(\"------------------------\\n\")\n",
    "    txtfile.write(f\"Total Votes: {votes_cast}\\n\")\n",
    "    txtfile.write(\"------------------------\\n\")\n",
    "    for n in range(len(candidate)):\n",
    "        if candidate_votes[n] > winner_votes:\n",
    "            winner = candidate[n]\n",
    "            winner_votes = candidate_votes[n]\n",
    "        txtfile.write(f\"{candidate[n]}: {(candidate_votes[n]/votes_cast)*100:.3f}% ({candidate_votes[n]})\\n\")\n",
    "    txtfile.write(\"-------------------------\\n\")\n",
    "    txtfile.write(f\"Winner: {winner}\\n\")\n",
    "    txtfile.write(\"-------------------------\\n\")"
   ]
  }
 ],
 "metadata": {
  "kernelspec": {
   "display_name": "Python 3",
   "language": "python",
   "name": "python3"
  },
  "language_info": {
   "codemirror_mode": {
    "name": "ipython",
    "version": 3
   },
   "file_extension": ".py",
   "mimetype": "text/x-python",
   "name": "python",
   "nbconvert_exporter": "python",
   "pygments_lexer": "ipython3",
   "version": "3.8.5"
  }
 },
 "nbformat": 4,
 "nbformat_minor": 4
}
