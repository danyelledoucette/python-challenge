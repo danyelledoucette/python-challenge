{
 "cells": [
  {
   "cell_type": "code",
   "execution_count": null,
   "metadata": {},
   "outputs": [],
   "source": [
    "#PyPoll\n",
    "#Vote Counting\n",
    "\n",
    "#In this challenge, you are tasked with helping a small, rural town modernize its vote counting process.\n",
    "\n",
    "#You will be give a set of poll data called election_data.csv. The dataset is composed of three columns: Voter ID, County, and Candidate. Your task is to create a Python script that analyzes the votes and calculates each of the following:\n",
    "\n",
    "#The total number of votes cast\n",
    "\n",
    "#A complete list of candidates who received votes\n",
    "\n",
    "#The percentage of votes each candidate won\n",
    "\n",
    "#The total number of votes each candidate won\n",
    "\n",
    "#The winner of the election based on popular vote.\n",
    "\n",
    "#As an example, your analysis should look similar to the one below:\n",
    "\n",
    "#Election Results\n",
    "#-------------------------\n",
    "#Total Votes: 3521001\n",
    "#-------------------------\n",
    "#Khan: 63.000% (2218231)\n",
    "#Correy: 20.000% (704200)\n",
    "#Li: 14.000% (492940)\n",
    "#O'Tooley: 3.000% (105630)\n",
    "#-------------------------\n",
    "#Winner: Khan\n",
    "#-------------------------\n",
    "#In addition, your final script should both print the analysis to the terminal and export a text file with the results.\n",
    "\n"
   ]
  },
  {
   "cell_type": "code",
   "execution_count": null,
   "metadata": {},
   "outputs": [],
   "source": []
  },
  {
   "cell_type": "code",
   "execution_count": 1,
   "metadata": {},
   "outputs": [],
   "source": [
    "import os\n",
    "import csv"
   ]
  },
  {
   "cell_type": "code",
   "execution_count": 2,
   "metadata": {},
   "outputs": [],
   "source": [
    "election_data_csv = os.path.join('..', 'Resources', 'election_data.csv')"
   ]
  },
  {
   "cell_type": "code",
   "execution_count": 3,
   "metadata": {},
   "outputs": [],
   "source": [
    "votes_cast = 0\n",
    "winner_votes = 0\n",
    "candidate = []\n",
    "candidate_votes = []"
   ]
  },
  {
   "cell_type": "code",
   "execution_count": 4,
   "metadata": {},
   "outputs": [],
   "source": [
    "with open(election_data_csv, newline='') as csvfile:\n",
    "    csvreader = csv.reader(csvfile, delimiter=\",\")\n",
    "    header = next(csvreader)\n",
    "    \n",
    "    for row in csvreader:\n",
    "        \n",
    "        # each row +1 to vote count \n",
    "        votes_cast += 1\n",
    "        \n",
    "        # for each row, compare previous candidate row to current candidate row (row [2] in csvfile)\n",
    "        # if count for candidate is equal to zero, add the candidate to the list and add 1 to their vote count\n",
    "        if candidate.count(row[2]) == 0:\n",
    "            candidate.append(row[2])\n",
    "            candidate_votes.append(1)\n",
    "        \n",
    "        # if the candidate count is not equal to zero, add one to the respective candidates vote tally\n",
    "        else:\n",
    "            candidate_votes[candidate.index(row[2])] += 1\n",
    "            \n",
    "            for n in range(len(candidate)):\n",
    "                if candidate_votes[n] > winner_votes:\n",
    "                    winner = candidate[n]\n",
    "                    winner_votes = candidate_votes[n]"
   ]
  },
  {
   "cell_type": "code",
   "execution_count": 5,
   "metadata": {},
   "outputs": [
    {
     "name": "stdout",
     "output_type": "stream",
     "text": [
      "Election Results\n",
      "------------------------\n",
      "Total Votes: 3521001\n",
      "-------------------------\n",
      "O'Tooley: 3.000% (105630)\n",
      "-------------------------\n",
      "Winner: {winner}\n",
      "-------------------------\n"
     ]
    }
   ],
   "source": [
    "print(\"Election Results\")\n",
    "print(\"------------------------\")\n",
    "print(f\"Total Votes: {votes_cast}\")\n",
    "print(\"-------------------------\")\n",
    "print(f\"{candidate[n]}: {(candidate_votes[n]/votes_cast)*100:.3f}% ({candidate_votes[n]})\")\n",
    "print(\"-------------------------\")\n",
    "print(\"Winner: {winner}\")\n",
    "print(\"-------------------------\")"
   ]
  },
  {
   "cell_type": "code",
   "execution_count": null,
   "metadata": {},
   "outputs": [],
   "source": [
    "with open(\"election_results.txt\", \"w\") as txtfile:\n",
    "    txtfile.write(\"Election Results\\n\")\n",
    "    txtfile.write(\"------------------------\\n\")\n",
    "    txtfile.write(f\"Total Votes: {votes_cast}\\n\")\n",
    "    txtfile.write(\"------------------------\\n\")\n",
    "    txtfile.write(f\"{candidate[n]}: {(candidate_votes[n]/votes_cast)*100:.3f}% ({candidate_votes[n]})\\n\")\n",
    "    txtfile.write(\"-------------------------\\n\")\n",
    "    txtfile.write(\"Winner: {winner}\")\n",
    "    txtfile.write(\"-------------------------\")"
   ]
  }
 ],
 "metadata": {
  "kernelspec": {
   "display_name": "Python 3",
   "language": "python",
   "name": "python3"
  },
  "language_info": {
   "codemirror_mode": {
    "name": "ipython",
    "version": 3
   },
   "file_extension": ".py",
   "mimetype": "text/x-python",
   "name": "python",
   "nbconvert_exporter": "python",
   "pygments_lexer": "ipython3",
   "version": "3.8.5"
  }
 },
 "nbformat": 4,
 "nbformat_minor": 4
}
